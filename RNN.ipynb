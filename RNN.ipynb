{
  "nbformat": 4,
  "nbformat_minor": 0,
  "metadata": {
    "colab": {
      "name": "RNN.ipynb",
      "version": "0.3.2",
      "provenance": []
    },
    "kernelspec": {
      "name": "python3",
      "display_name": "Python 3"
    },
    "accelerator": "TPU"
  },
  "cells": [
    {
      "metadata": {
        "id": "GGQR_Jqjptv-",
        "colab_type": "text"
      },
      "cell_type": "markdown",
      "source": [
        "# Dataset from google drive"
      ]
    },
    {
      "metadata": {
        "id": "mJT5i2EaoSCE",
        "colab_type": "code",
        "colab": {}
      },
      "cell_type": "code",
      "source": [
        "!pip install --upgrade -q gspread\n",
        "\n",
        "\n",
        "from google.colab import auth\n",
        "auth.authenticate_user()\n",
        "\n",
        "import gspread\n",
        "from oauth2client.client import GoogleCredentials\n",
        "\n",
        "gc = gspread.authorize(GoogleCredentials.get_application_default())\n",
        "\n",
        "# Open our new sheet and read some data.\n",
        "worksheet = gc.open('Google_Stock_Price_Train').sheet1\n",
        "\n",
        "# get_all_values gives a list of rows.\n",
        "rows = worksheet.get_all_values()\n",
        "\n",
        "# Open our new sheet and read some data.\n",
        "worksheet_1 = gc.open('Google_Stock_Price_Test').sheet1\n",
        "\n",
        "# get_all_values gives a list of rows.\n",
        "rows_1 = worksheet_1.get_all_values()"
      ],
      "execution_count": 0,
      "outputs": []
    },
    {
      "metadata": {
        "id": "Cb83CJd9yc6U",
        "colab_type": "text"
      },
      "cell_type": "markdown",
      "source": [
        "# Data Preprocessing"
      ]
    },
    {
      "metadata": {
        "id": "VaxWSXQnqYtj",
        "colab_type": "code",
        "colab": {}
      },
      "cell_type": "code",
      "source": [
        "# Importing the libraries\n",
        "import numpy as np\n",
        "import pandas as pd\n",
        "import matplotlib.pyplot as plt\n",
        "\n",
        "dataset_train = pd.DataFrame(data=rows[1:], columns=rows[0], dtype='float32')\n",
        "training_set = dataset_train.iloc[:, 1:2].values"
      ],
      "execution_count": 0,
      "outputs": []
    },
    {
      "metadata": {
        "id": "awqA5uI24RD2",
        "colab_type": "code",
        "colab": {
          "base_uri": "https://localhost:8080/",
          "height": 1969
        },
        "outputId": "b0a61fbb-a2e4-47b9-9d63-2567c4933028"
      },
      "cell_type": "code",
      "source": [
        "dataset_train"
      ],
      "execution_count": 3,
      "outputs": [
        {
          "output_type": "execute_result",
          "data": {
            "text/html": [
              "<div>\n",
              "<style scoped>\n",
              "    .dataframe tbody tr th:only-of-type {\n",
              "        vertical-align: middle;\n",
              "    }\n",
              "\n",
              "    .dataframe tbody tr th {\n",
              "        vertical-align: top;\n",
              "    }\n",
              "\n",
              "    .dataframe thead th {\n",
              "        text-align: right;\n",
              "    }\n",
              "</style>\n",
              "<table border=\"1\" class=\"dataframe\">\n",
              "  <thead>\n",
              "    <tr style=\"text-align: right;\">\n",
              "      <th></th>\n",
              "      <th>Date</th>\n",
              "      <th>Open</th>\n",
              "      <th>High</th>\n",
              "      <th>Low</th>\n",
              "      <th>Close</th>\n",
              "      <th>Volume</th>\n",
              "    </tr>\n",
              "  </thead>\n",
              "  <tbody>\n",
              "    <tr>\n",
              "      <th>0</th>\n",
              "      <td>1/3/2012</td>\n",
              "      <td>325.250000</td>\n",
              "      <td>332.829987</td>\n",
              "      <td>324.970001</td>\n",
              "      <td>663.590027</td>\n",
              "      <td>7380500.0</td>\n",
              "    </tr>\n",
              "    <tr>\n",
              "      <th>1</th>\n",
              "      <td>1/4/2012</td>\n",
              "      <td>331.269989</td>\n",
              "      <td>333.869995</td>\n",
              "      <td>329.079987</td>\n",
              "      <td>666.450012</td>\n",
              "      <td>5749400.0</td>\n",
              "    </tr>\n",
              "    <tr>\n",
              "      <th>2</th>\n",
              "      <td>1/5/2012</td>\n",
              "      <td>329.829987</td>\n",
              "      <td>330.750000</td>\n",
              "      <td>326.890015</td>\n",
              "      <td>657.210022</td>\n",
              "      <td>6590300.0</td>\n",
              "    </tr>\n",
              "    <tr>\n",
              "      <th>3</th>\n",
              "      <td>1/6/2012</td>\n",
              "      <td>328.339996</td>\n",
              "      <td>328.769989</td>\n",
              "      <td>323.679993</td>\n",
              "      <td>648.239990</td>\n",
              "      <td>5405900.0</td>\n",
              "    </tr>\n",
              "    <tr>\n",
              "      <th>4</th>\n",
              "      <td>1/9/2012</td>\n",
              "      <td>322.040009</td>\n",
              "      <td>322.290009</td>\n",
              "      <td>309.459991</td>\n",
              "      <td>620.760010</td>\n",
              "      <td>11688800.0</td>\n",
              "    </tr>\n",
              "    <tr>\n",
              "      <th>5</th>\n",
              "      <td>1/10/2012</td>\n",
              "      <td>313.700012</td>\n",
              "      <td>315.720001</td>\n",
              "      <td>307.299988</td>\n",
              "      <td>621.429993</td>\n",
              "      <td>8824000.0</td>\n",
              "    </tr>\n",
              "    <tr>\n",
              "      <th>6</th>\n",
              "      <td>1/11/2012</td>\n",
              "      <td>310.589996</td>\n",
              "      <td>313.519989</td>\n",
              "      <td>309.399994</td>\n",
              "      <td>624.250000</td>\n",
              "      <td>4817800.0</td>\n",
              "    </tr>\n",
              "    <tr>\n",
              "      <th>7</th>\n",
              "      <td>1/12/2012</td>\n",
              "      <td>314.429993</td>\n",
              "      <td>315.260010</td>\n",
              "      <td>312.079987</td>\n",
              "      <td>627.919983</td>\n",
              "      <td>3764400.0</td>\n",
              "    </tr>\n",
              "    <tr>\n",
              "      <th>8</th>\n",
              "      <td>1/13/2012</td>\n",
              "      <td>311.959991</td>\n",
              "      <td>312.299988</td>\n",
              "      <td>309.369995</td>\n",
              "      <td>623.280029</td>\n",
              "      <td>4631800.0</td>\n",
              "    </tr>\n",
              "    <tr>\n",
              "      <th>9</th>\n",
              "      <td>1/17/2012</td>\n",
              "      <td>314.809998</td>\n",
              "      <td>314.809998</td>\n",
              "      <td>311.670013</td>\n",
              "      <td>626.859985</td>\n",
              "      <td>3832800.0</td>\n",
              "    </tr>\n",
              "    <tr>\n",
              "      <th>10</th>\n",
              "      <td>1/18/2012</td>\n",
              "      <td>312.140015</td>\n",
              "      <td>315.820007</td>\n",
              "      <td>309.899994</td>\n",
              "      <td>631.179993</td>\n",
              "      <td>5544000.0</td>\n",
              "    </tr>\n",
              "    <tr>\n",
              "      <th>11</th>\n",
              "      <td>1/19/2012</td>\n",
              "      <td>319.299988</td>\n",
              "      <td>319.299988</td>\n",
              "      <td>314.549988</td>\n",
              "      <td>637.820007</td>\n",
              "      <td>12657800.0</td>\n",
              "    </tr>\n",
              "    <tr>\n",
              "      <th>12</th>\n",
              "      <td>1/20/2012</td>\n",
              "      <td>294.160004</td>\n",
              "      <td>294.399994</td>\n",
              "      <td>289.760010</td>\n",
              "      <td>584.390015</td>\n",
              "      <td>21231800.0</td>\n",
              "    </tr>\n",
              "    <tr>\n",
              "      <th>13</th>\n",
              "      <td>1/23/2012</td>\n",
              "      <td>291.910004</td>\n",
              "      <td>293.230011</td>\n",
              "      <td>290.489990</td>\n",
              "      <td>583.919983</td>\n",
              "      <td>6851300.0</td>\n",
              "    </tr>\n",
              "    <tr>\n",
              "      <th>14</th>\n",
              "      <td>1/24/2012</td>\n",
              "      <td>292.070007</td>\n",
              "      <td>292.739990</td>\n",
              "      <td>287.920013</td>\n",
              "      <td>579.340027</td>\n",
              "      <td>6134400.0</td>\n",
              "    </tr>\n",
              "    <tr>\n",
              "      <th>15</th>\n",
              "      <td>1/25/2012</td>\n",
              "      <td>287.679993</td>\n",
              "      <td>288.269989</td>\n",
              "      <td>282.130005</td>\n",
              "      <td>567.929993</td>\n",
              "      <td>10012700.0</td>\n",
              "    </tr>\n",
              "    <tr>\n",
              "      <th>16</th>\n",
              "      <td>1/26/2012</td>\n",
              "      <td>284.920013</td>\n",
              "      <td>286.170013</td>\n",
              "      <td>281.220001</td>\n",
              "      <td>566.539978</td>\n",
              "      <td>6476500.0</td>\n",
              "    </tr>\n",
              "    <tr>\n",
              "      <th>17</th>\n",
              "      <td>1/27/2012</td>\n",
              "      <td>284.320007</td>\n",
              "      <td>289.079987</td>\n",
              "      <td>283.600006</td>\n",
              "      <td>578.390015</td>\n",
              "      <td>7262000.0</td>\n",
              "    </tr>\n",
              "    <tr>\n",
              "      <th>18</th>\n",
              "      <td>1/30/2012</td>\n",
              "      <td>287.950012</td>\n",
              "      <td>288.920013</td>\n",
              "      <td>285.630005</td>\n",
              "      <td>576.109985</td>\n",
              "      <td>4678400.0</td>\n",
              "    </tr>\n",
              "    <tr>\n",
              "      <th>19</th>\n",
              "      <td>1/31/2012</td>\n",
              "      <td>290.410004</td>\n",
              "      <td>290.910004</td>\n",
              "      <td>286.500000</td>\n",
              "      <td>578.520020</td>\n",
              "      <td>4300700.0</td>\n",
              "    </tr>\n",
              "    <tr>\n",
              "      <th>20</th>\n",
              "      <td>2/1/2012</td>\n",
              "      <td>291.380005</td>\n",
              "      <td>291.660004</td>\n",
              "      <td>288.489990</td>\n",
              "      <td>579.239990</td>\n",
              "      <td>4658700.0</td>\n",
              "    </tr>\n",
              "    <tr>\n",
              "      <th>21</th>\n",
              "      <td>2/2/2012</td>\n",
              "      <td>291.339996</td>\n",
              "      <td>292.109985</td>\n",
              "      <td>289.950012</td>\n",
              "      <td>583.510010</td>\n",
              "      <td>4847400.0</td>\n",
              "    </tr>\n",
              "    <tr>\n",
              "      <th>22</th>\n",
              "      <td>2/3/2012</td>\n",
              "      <td>294.230011</td>\n",
              "      <td>297.420013</td>\n",
              "      <td>292.929993</td>\n",
              "      <td>594.700012</td>\n",
              "      <td>6360700.0</td>\n",
              "    </tr>\n",
              "    <tr>\n",
              "      <th>23</th>\n",
              "      <td>2/6/2012</td>\n",
              "      <td>296.390015</td>\n",
              "      <td>304.269989</td>\n",
              "      <td>295.899994</td>\n",
              "      <td>607.419983</td>\n",
              "      <td>7386700.0</td>\n",
              "    </tr>\n",
              "    <tr>\n",
              "      <th>24</th>\n",
              "      <td>2/7/2012</td>\n",
              "      <td>302.440002</td>\n",
              "      <td>303.559998</td>\n",
              "      <td>300.750000</td>\n",
              "      <td>605.109985</td>\n",
              "      <td>4199700.0</td>\n",
              "    </tr>\n",
              "    <tr>\n",
              "      <th>25</th>\n",
              "      <td>2/8/2012</td>\n",
              "      <td>303.179993</td>\n",
              "      <td>304.529999</td>\n",
              "      <td>301.239990</td>\n",
              "      <td>608.179993</td>\n",
              "      <td>3686400.0</td>\n",
              "    </tr>\n",
              "    <tr>\n",
              "      <th>26</th>\n",
              "      <td>2/9/2012</td>\n",
              "      <td>304.869995</td>\n",
              "      <td>306.100006</td>\n",
              "      <td>303.359985</td>\n",
              "      <td>609.789978</td>\n",
              "      <td>4546300.0</td>\n",
              "    </tr>\n",
              "    <tr>\n",
              "      <th>27</th>\n",
              "      <td>2/10/2012</td>\n",
              "      <td>302.809998</td>\n",
              "      <td>302.929993</td>\n",
              "      <td>300.869995</td>\n",
              "      <td>604.250000</td>\n",
              "      <td>4667700.0</td>\n",
              "    </tr>\n",
              "    <tr>\n",
              "      <th>28</th>\n",
              "      <td>2/13/2012</td>\n",
              "      <td>304.109985</td>\n",
              "      <td>305.769989</td>\n",
              "      <td>303.869995</td>\n",
              "      <td>610.520020</td>\n",
              "      <td>3646100.0</td>\n",
              "    </tr>\n",
              "    <tr>\n",
              "      <th>29</th>\n",
              "      <td>2/14/2012</td>\n",
              "      <td>304.630005</td>\n",
              "      <td>304.859985</td>\n",
              "      <td>301.250000</td>\n",
              "      <td>608.090027</td>\n",
              "      <td>3620900.0</td>\n",
              "    </tr>\n",
              "    <tr>\n",
              "      <th>...</th>\n",
              "      <td>...</td>\n",
              "      <td>...</td>\n",
              "      <td>...</td>\n",
              "      <td>...</td>\n",
              "      <td>...</td>\n",
              "      <td>...</td>\n",
              "    </tr>\n",
              "    <tr>\n",
              "      <th>1228</th>\n",
              "      <td>11/17/2016</td>\n",
              "      <td>766.919983</td>\n",
              "      <td>772.700012</td>\n",
              "      <td>764.229980</td>\n",
              "      <td>771.229980</td>\n",
              "      <td>1304000.0</td>\n",
              "    </tr>\n",
              "    <tr>\n",
              "      <th>1229</th>\n",
              "      <td>11/18/2016</td>\n",
              "      <td>771.369995</td>\n",
              "      <td>775.000000</td>\n",
              "      <td>760.000000</td>\n",
              "      <td>760.539978</td>\n",
              "      <td>1547100.0</td>\n",
              "    </tr>\n",
              "    <tr>\n",
              "      <th>1230</th>\n",
              "      <td>11/21/2016</td>\n",
              "      <td>762.609985</td>\n",
              "      <td>769.700012</td>\n",
              "      <td>760.599976</td>\n",
              "      <td>769.200012</td>\n",
              "      <td>1330600.0</td>\n",
              "    </tr>\n",
              "    <tr>\n",
              "      <th>1231</th>\n",
              "      <td>11/22/2016</td>\n",
              "      <td>772.630005</td>\n",
              "      <td>776.960022</td>\n",
              "      <td>767.000000</td>\n",
              "      <td>768.270020</td>\n",
              "      <td>1593100.0</td>\n",
              "    </tr>\n",
              "    <tr>\n",
              "      <th>1232</th>\n",
              "      <td>11/23/2016</td>\n",
              "      <td>767.729980</td>\n",
              "      <td>768.280029</td>\n",
              "      <td>755.250000</td>\n",
              "      <td>760.989990</td>\n",
              "      <td>1478400.0</td>\n",
              "    </tr>\n",
              "    <tr>\n",
              "      <th>1233</th>\n",
              "      <td>11/25/2016</td>\n",
              "      <td>764.260010</td>\n",
              "      <td>765.000000</td>\n",
              "      <td>760.520020</td>\n",
              "      <td>761.679993</td>\n",
              "      <td>5874.0</td>\n",
              "    </tr>\n",
              "    <tr>\n",
              "      <th>1234</th>\n",
              "      <td>11/28/2016</td>\n",
              "      <td>760.000000</td>\n",
              "      <td>779.530029</td>\n",
              "      <td>759.799988</td>\n",
              "      <td>768.239990</td>\n",
              "      <td>2188200.0</td>\n",
              "    </tr>\n",
              "    <tr>\n",
              "      <th>1235</th>\n",
              "      <td>11/29/2016</td>\n",
              "      <td>771.530029</td>\n",
              "      <td>778.500000</td>\n",
              "      <td>768.239990</td>\n",
              "      <td>770.840027</td>\n",
              "      <td>1616600.0</td>\n",
              "    </tr>\n",
              "    <tr>\n",
              "      <th>1236</th>\n",
              "      <td>11/30/2016</td>\n",
              "      <td>770.070007</td>\n",
              "      <td>772.989990</td>\n",
              "      <td>754.830017</td>\n",
              "      <td>758.039978</td>\n",
              "      <td>2392900.0</td>\n",
              "    </tr>\n",
              "    <tr>\n",
              "      <th>1237</th>\n",
              "      <td>12/1/2016</td>\n",
              "      <td>757.440002</td>\n",
              "      <td>759.849976</td>\n",
              "      <td>737.030029</td>\n",
              "      <td>747.919983</td>\n",
              "      <td>3017900.0</td>\n",
              "    </tr>\n",
              "    <tr>\n",
              "      <th>1238</th>\n",
              "      <td>12/2/2016</td>\n",
              "      <td>744.590027</td>\n",
              "      <td>754.000000</td>\n",
              "      <td>743.099976</td>\n",
              "      <td>750.500000</td>\n",
              "      <td>1452500.0</td>\n",
              "    </tr>\n",
              "    <tr>\n",
              "      <th>1239</th>\n",
              "      <td>12/5/2016</td>\n",
              "      <td>757.710022</td>\n",
              "      <td>763.900024</td>\n",
              "      <td>752.900024</td>\n",
              "      <td>762.520020</td>\n",
              "      <td>1394200.0</td>\n",
              "    </tr>\n",
              "    <tr>\n",
              "      <th>1240</th>\n",
              "      <td>12/6/2016</td>\n",
              "      <td>764.729980</td>\n",
              "      <td>768.830017</td>\n",
              "      <td>757.340027</td>\n",
              "      <td>759.109985</td>\n",
              "      <td>1690700.0</td>\n",
              "    </tr>\n",
              "    <tr>\n",
              "      <th>1241</th>\n",
              "      <td>12/7/2016</td>\n",
              "      <td>761.000000</td>\n",
              "      <td>771.359985</td>\n",
              "      <td>755.799988</td>\n",
              "      <td>771.190002</td>\n",
              "      <td>1761000.0</td>\n",
              "    </tr>\n",
              "    <tr>\n",
              "      <th>1242</th>\n",
              "      <td>12/8/2016</td>\n",
              "      <td>772.479980</td>\n",
              "      <td>778.179993</td>\n",
              "      <td>767.229980</td>\n",
              "      <td>776.419983</td>\n",
              "      <td>1488100.0</td>\n",
              "    </tr>\n",
              "    <tr>\n",
              "      <th>1243</th>\n",
              "      <td>12/9/2016</td>\n",
              "      <td>780.000000</td>\n",
              "      <td>789.429993</td>\n",
              "      <td>779.020020</td>\n",
              "      <td>789.289978</td>\n",
              "      <td>1821900.0</td>\n",
              "    </tr>\n",
              "    <tr>\n",
              "      <th>1244</th>\n",
              "      <td>12/12/2016</td>\n",
              "      <td>785.039978</td>\n",
              "      <td>791.250000</td>\n",
              "      <td>784.349976</td>\n",
              "      <td>789.270020</td>\n",
              "      <td>2104100.0</td>\n",
              "    </tr>\n",
              "    <tr>\n",
              "      <th>1245</th>\n",
              "      <td>12/13/2016</td>\n",
              "      <td>793.900024</td>\n",
              "      <td>804.380005</td>\n",
              "      <td>793.340027</td>\n",
              "      <td>796.099976</td>\n",
              "      <td>2145200.0</td>\n",
              "    </tr>\n",
              "    <tr>\n",
              "      <th>1246</th>\n",
              "      <td>12/14/2016</td>\n",
              "      <td>797.400024</td>\n",
              "      <td>804.000000</td>\n",
              "      <td>794.010010</td>\n",
              "      <td>797.070007</td>\n",
              "      <td>1704200.0</td>\n",
              "    </tr>\n",
              "    <tr>\n",
              "      <th>1247</th>\n",
              "      <td>12/15/2016</td>\n",
              "      <td>797.340027</td>\n",
              "      <td>803.000000</td>\n",
              "      <td>792.919983</td>\n",
              "      <td>797.849976</td>\n",
              "      <td>1626500.0</td>\n",
              "    </tr>\n",
              "    <tr>\n",
              "      <th>1248</th>\n",
              "      <td>12/16/2016</td>\n",
              "      <td>800.400024</td>\n",
              "      <td>800.859985</td>\n",
              "      <td>790.289978</td>\n",
              "      <td>790.799988</td>\n",
              "      <td>2443800.0</td>\n",
              "    </tr>\n",
              "    <tr>\n",
              "      <th>1249</th>\n",
              "      <td>12/19/2016</td>\n",
              "      <td>790.219971</td>\n",
              "      <td>797.659973</td>\n",
              "      <td>786.270020</td>\n",
              "      <td>794.200012</td>\n",
              "      <td>1232100.0</td>\n",
              "    </tr>\n",
              "    <tr>\n",
              "      <th>1250</th>\n",
              "      <td>12/20/2016</td>\n",
              "      <td>796.760010</td>\n",
              "      <td>798.650024</td>\n",
              "      <td>793.270020</td>\n",
              "      <td>796.419983</td>\n",
              "      <td>951.0</td>\n",
              "    </tr>\n",
              "    <tr>\n",
              "      <th>1251</th>\n",
              "      <td>12/21/2016</td>\n",
              "      <td>795.840027</td>\n",
              "      <td>796.679993</td>\n",
              "      <td>787.099976</td>\n",
              "      <td>794.559998</td>\n",
              "      <td>1211300.0</td>\n",
              "    </tr>\n",
              "    <tr>\n",
              "      <th>1252</th>\n",
              "      <td>12/22/2016</td>\n",
              "      <td>792.359985</td>\n",
              "      <td>793.320007</td>\n",
              "      <td>788.580017</td>\n",
              "      <td>791.260010</td>\n",
              "      <td>9722.0</td>\n",
              "    </tr>\n",
              "    <tr>\n",
              "      <th>1253</th>\n",
              "      <td>12/23/2016</td>\n",
              "      <td>790.900024</td>\n",
              "      <td>792.739990</td>\n",
              "      <td>787.280029</td>\n",
              "      <td>789.909973</td>\n",
              "      <td>6234.0</td>\n",
              "    </tr>\n",
              "    <tr>\n",
              "      <th>1254</th>\n",
              "      <td>12/27/2016</td>\n",
              "      <td>790.679993</td>\n",
              "      <td>797.859985</td>\n",
              "      <td>787.659973</td>\n",
              "      <td>791.549988</td>\n",
              "      <td>7891.0</td>\n",
              "    </tr>\n",
              "    <tr>\n",
              "      <th>1255</th>\n",
              "      <td>12/28/2016</td>\n",
              "      <td>793.700012</td>\n",
              "      <td>794.229980</td>\n",
              "      <td>783.200012</td>\n",
              "      <td>785.049988</td>\n",
              "      <td>1153800.0</td>\n",
              "    </tr>\n",
              "    <tr>\n",
              "      <th>1256</th>\n",
              "      <td>12/29/2016</td>\n",
              "      <td>783.330017</td>\n",
              "      <td>785.929993</td>\n",
              "      <td>778.919983</td>\n",
              "      <td>782.789978</td>\n",
              "      <td>7443.0</td>\n",
              "    </tr>\n",
              "    <tr>\n",
              "      <th>1257</th>\n",
              "      <td>12/30/2016</td>\n",
              "      <td>782.750000</td>\n",
              "      <td>782.780029</td>\n",
              "      <td>770.409973</td>\n",
              "      <td>771.820007</td>\n",
              "      <td>1770000.0</td>\n",
              "    </tr>\n",
              "  </tbody>\n",
              "</table>\n",
              "<p>1258 rows × 6 columns</p>\n",
              "</div>"
            ],
            "text/plain": [
              "            Date        Open        High         Low       Close      Volume\n",
              "0       1/3/2012  325.250000  332.829987  324.970001  663.590027   7380500.0\n",
              "1       1/4/2012  331.269989  333.869995  329.079987  666.450012   5749400.0\n",
              "2       1/5/2012  329.829987  330.750000  326.890015  657.210022   6590300.0\n",
              "3       1/6/2012  328.339996  328.769989  323.679993  648.239990   5405900.0\n",
              "4       1/9/2012  322.040009  322.290009  309.459991  620.760010  11688800.0\n",
              "5      1/10/2012  313.700012  315.720001  307.299988  621.429993   8824000.0\n",
              "6      1/11/2012  310.589996  313.519989  309.399994  624.250000   4817800.0\n",
              "7      1/12/2012  314.429993  315.260010  312.079987  627.919983   3764400.0\n",
              "8      1/13/2012  311.959991  312.299988  309.369995  623.280029   4631800.0\n",
              "9      1/17/2012  314.809998  314.809998  311.670013  626.859985   3832800.0\n",
              "10     1/18/2012  312.140015  315.820007  309.899994  631.179993   5544000.0\n",
              "11     1/19/2012  319.299988  319.299988  314.549988  637.820007  12657800.0\n",
              "12     1/20/2012  294.160004  294.399994  289.760010  584.390015  21231800.0\n",
              "13     1/23/2012  291.910004  293.230011  290.489990  583.919983   6851300.0\n",
              "14     1/24/2012  292.070007  292.739990  287.920013  579.340027   6134400.0\n",
              "15     1/25/2012  287.679993  288.269989  282.130005  567.929993  10012700.0\n",
              "16     1/26/2012  284.920013  286.170013  281.220001  566.539978   6476500.0\n",
              "17     1/27/2012  284.320007  289.079987  283.600006  578.390015   7262000.0\n",
              "18     1/30/2012  287.950012  288.920013  285.630005  576.109985   4678400.0\n",
              "19     1/31/2012  290.410004  290.910004  286.500000  578.520020   4300700.0\n",
              "20      2/1/2012  291.380005  291.660004  288.489990  579.239990   4658700.0\n",
              "21      2/2/2012  291.339996  292.109985  289.950012  583.510010   4847400.0\n",
              "22      2/3/2012  294.230011  297.420013  292.929993  594.700012   6360700.0\n",
              "23      2/6/2012  296.390015  304.269989  295.899994  607.419983   7386700.0\n",
              "24      2/7/2012  302.440002  303.559998  300.750000  605.109985   4199700.0\n",
              "25      2/8/2012  303.179993  304.529999  301.239990  608.179993   3686400.0\n",
              "26      2/9/2012  304.869995  306.100006  303.359985  609.789978   4546300.0\n",
              "27     2/10/2012  302.809998  302.929993  300.869995  604.250000   4667700.0\n",
              "28     2/13/2012  304.109985  305.769989  303.869995  610.520020   3646100.0\n",
              "29     2/14/2012  304.630005  304.859985  301.250000  608.090027   3620900.0\n",
              "...          ...         ...         ...         ...         ...         ...\n",
              "1228  11/17/2016  766.919983  772.700012  764.229980  771.229980   1304000.0\n",
              "1229  11/18/2016  771.369995  775.000000  760.000000  760.539978   1547100.0\n",
              "1230  11/21/2016  762.609985  769.700012  760.599976  769.200012   1330600.0\n",
              "1231  11/22/2016  772.630005  776.960022  767.000000  768.270020   1593100.0\n",
              "1232  11/23/2016  767.729980  768.280029  755.250000  760.989990   1478400.0\n",
              "1233  11/25/2016  764.260010  765.000000  760.520020  761.679993      5874.0\n",
              "1234  11/28/2016  760.000000  779.530029  759.799988  768.239990   2188200.0\n",
              "1235  11/29/2016  771.530029  778.500000  768.239990  770.840027   1616600.0\n",
              "1236  11/30/2016  770.070007  772.989990  754.830017  758.039978   2392900.0\n",
              "1237   12/1/2016  757.440002  759.849976  737.030029  747.919983   3017900.0\n",
              "1238   12/2/2016  744.590027  754.000000  743.099976  750.500000   1452500.0\n",
              "1239   12/5/2016  757.710022  763.900024  752.900024  762.520020   1394200.0\n",
              "1240   12/6/2016  764.729980  768.830017  757.340027  759.109985   1690700.0\n",
              "1241   12/7/2016  761.000000  771.359985  755.799988  771.190002   1761000.0\n",
              "1242   12/8/2016  772.479980  778.179993  767.229980  776.419983   1488100.0\n",
              "1243   12/9/2016  780.000000  789.429993  779.020020  789.289978   1821900.0\n",
              "1244  12/12/2016  785.039978  791.250000  784.349976  789.270020   2104100.0\n",
              "1245  12/13/2016  793.900024  804.380005  793.340027  796.099976   2145200.0\n",
              "1246  12/14/2016  797.400024  804.000000  794.010010  797.070007   1704200.0\n",
              "1247  12/15/2016  797.340027  803.000000  792.919983  797.849976   1626500.0\n",
              "1248  12/16/2016  800.400024  800.859985  790.289978  790.799988   2443800.0\n",
              "1249  12/19/2016  790.219971  797.659973  786.270020  794.200012   1232100.0\n",
              "1250  12/20/2016  796.760010  798.650024  793.270020  796.419983       951.0\n",
              "1251  12/21/2016  795.840027  796.679993  787.099976  794.559998   1211300.0\n",
              "1252  12/22/2016  792.359985  793.320007  788.580017  791.260010      9722.0\n",
              "1253  12/23/2016  790.900024  792.739990  787.280029  789.909973      6234.0\n",
              "1254  12/27/2016  790.679993  797.859985  787.659973  791.549988      7891.0\n",
              "1255  12/28/2016  793.700012  794.229980  783.200012  785.049988   1153800.0\n",
              "1256  12/29/2016  783.330017  785.929993  778.919983  782.789978      7443.0\n",
              "1257  12/30/2016  782.750000  782.780029  770.409973  771.820007   1770000.0\n",
              "\n",
              "[1258 rows x 6 columns]"
            ]
          },
          "metadata": {
            "tags": []
          },
          "execution_count": 3
        }
      ]
    },
    {
      "metadata": {
        "id": "c7gGKkV_22N0",
        "colab_type": "text"
      },
      "cell_type": "markdown",
      "source": [
        "## Feature scaling"
      ]
    },
    {
      "metadata": {
        "id": "5DcJmFGW26dE",
        "colab_type": "code",
        "colab": {}
      },
      "cell_type": "code",
      "source": [
        "from sklearn.preprocessing import MinMaxScaler\n",
        "sc = MinMaxScaler(feature_range=(0, 1))"
      ],
      "execution_count": 0,
      "outputs": []
    },
    {
      "metadata": {
        "id": "JBvnET7s3K47",
        "colab_type": "code",
        "colab": {}
      },
      "cell_type": "code",
      "source": [
        "training_set_sc = sc.fit_transform(training_set) "
      ],
      "execution_count": 0,
      "outputs": []
    },
    {
      "metadata": {
        "id": "zYwz1XlZ41GG",
        "colab_type": "code",
        "colab": {
          "base_uri": "https://localhost:8080/",
          "height": 34
        },
        "outputId": "bbfec968-1667-49f4-b725-79e0e4b666d3"
      },
      "cell_type": "code",
      "source": [
        "training_set_sc.shape"
      ],
      "execution_count": 6,
      "outputs": [
        {
          "output_type": "execute_result",
          "data": {
            "text/plain": [
              "(1258, 1)"
            ]
          },
          "metadata": {
            "tags": []
          },
          "execution_count": 6
        }
      ]
    },
    {
      "metadata": {
        "id": "QuWPZ46z6C9_",
        "colab_type": "text"
      },
      "cell_type": "markdown",
      "source": [
        "## Creating data structure with 60 timespaces and 1 output"
      ]
    },
    {
      "metadata": {
        "id": "oB2uKtdy6aTd",
        "colab_type": "code",
        "colab": {}
      },
      "cell_type": "code",
      "source": [
        "x_train, y_train = [], []\n",
        "for i in range(60, 1258):\n",
        "    x_train.append(training_set_sc[i-60:i, 0])\n",
        "    y_train.append(training_set_sc[i, 0])"
      ],
      "execution_count": 0,
      "outputs": []
    },
    {
      "metadata": {
        "id": "LeQThZ9T9snm",
        "colab_type": "code",
        "colab": {}
      },
      "cell_type": "code",
      "source": [
        "x_train, y_train = np.array(x_train), np.array(y_train)"
      ],
      "execution_count": 0,
      "outputs": []
    },
    {
      "metadata": {
        "id": "YeQHrBXj-xUl",
        "colab_type": "code",
        "colab": {
          "base_uri": "https://localhost:8080/",
          "height": 34
        },
        "outputId": "0bf7fab6-c93c-4eb9-d975-22cc53181c5d"
      },
      "cell_type": "code",
      "source": [
        "x_train.shape"
      ],
      "execution_count": 9,
      "outputs": [
        {
          "output_type": "execute_result",
          "data": {
            "text/plain": [
              "(1198, 60)"
            ]
          },
          "metadata": {
            "tags": []
          },
          "execution_count": 9
        }
      ]
    },
    {
      "metadata": {
        "id": "n93s78h1CJ_n",
        "colab_type": "text"
      },
      "cell_type": "markdown",
      "source": [
        "## Reshaping"
      ]
    },
    {
      "metadata": {
        "id": "so50665NCNJg",
        "colab_type": "code",
        "colab": {}
      },
      "cell_type": "code",
      "source": [
        "x_train = np.reshape(x_train, (x_train.shape[0],x_train.shape[1], 1))"
      ],
      "execution_count": 0,
      "outputs": []
    },
    {
      "metadata": {
        "id": "AFkgh0gIigqJ",
        "colab_type": "code",
        "colab": {
          "base_uri": "https://localhost:8080/",
          "height": 34
        },
        "outputId": "4a822c60-8664-4bde-deb3-4c62756a7f5e"
      },
      "cell_type": "code",
      "source": [
        "x_train.shape"
      ],
      "execution_count": 11,
      "outputs": [
        {
          "output_type": "execute_result",
          "data": {
            "text/plain": [
              "(1198, 60, 1)"
            ]
          },
          "metadata": {
            "tags": []
          },
          "execution_count": 11
        }
      ]
    },
    {
      "metadata": {
        "id": "Lk5v_3kGI82l",
        "colab_type": "text"
      },
      "cell_type": "markdown",
      "source": [
        "# Building RNN"
      ]
    },
    {
      "metadata": {
        "id": "3ilwf_4RKWZ-",
        "colab_type": "text"
      },
      "cell_type": "markdown",
      "source": [
        "## importing keras"
      ]
    },
    {
      "metadata": {
        "id": "zAnghst8I_r2",
        "colab_type": "code",
        "colab": {
          "base_uri": "https://localhost:8080/",
          "height": 34
        },
        "outputId": "26246966-8c36-431d-8d4a-89b3c5551901"
      },
      "cell_type": "code",
      "source": [
        "from keras.models import Sequential\n",
        "from keras.layers import Dense\n",
        "from keras.layers import LSTM\n",
        "from keras.layers import Dropout"
      ],
      "execution_count": 12,
      "outputs": [
        {
          "output_type": "stream",
          "text": [
            "Using TensorFlow backend.\n"
          ],
          "name": "stderr"
        }
      ]
    },
    {
      "metadata": {
        "id": "41_g58msKdgk",
        "colab_type": "text"
      },
      "cell_type": "markdown",
      "source": [
        "## building model"
      ]
    },
    {
      "metadata": {
        "id": "d9-nQAusKLm4",
        "colab_type": "code",
        "colab": {}
      },
      "cell_type": "code",
      "source": [
        "model = Sequential()"
      ],
      "execution_count": 0,
      "outputs": []
    },
    {
      "metadata": {
        "id": "vrXRQ7ZgKxRn",
        "colab_type": "code",
        "colab": {}
      },
      "cell_type": "code",
      "source": [
        "model.add(LSTM(units = 50, \n",
        "               return_sequences = True, \n",
        "               input_shape = (x_train.shape[1], 1)))\n",
        "model.add(Dropout(0.2))"
      ],
      "execution_count": 0,
      "outputs": []
    },
    {
      "metadata": {
        "id": "z8CUMLVXgd0J",
        "colab_type": "code",
        "colab": {}
      },
      "cell_type": "code",
      "source": [
        "model.add(LSTM(units = 50, return_sequences = True))\n",
        "model.add(Dropout(0.2))"
      ],
      "execution_count": 0,
      "outputs": []
    },
    {
      "metadata": {
        "id": "lipGLoMApIHX",
        "colab_type": "code",
        "colab": {}
      },
      "cell_type": "code",
      "source": [
        "model.add(LSTM(units = 50, return_sequences = True))\n",
        "model.add(Dropout(0.2))"
      ],
      "execution_count": 0,
      "outputs": []
    },
    {
      "metadata": {
        "id": "aFF3TMwUUSD3",
        "colab_type": "code",
        "colab": {}
      },
      "cell_type": "code",
      "source": [
        "model.add(LSTM(units = 50, return_sequences = True))\n",
        "model.add(Dropout(0.2))"
      ],
      "execution_count": 0,
      "outputs": []
    },
    {
      "metadata": {
        "id": "IyDlj7g6URES",
        "colab_type": "code",
        "colab": {}
      },
      "cell_type": "code",
      "source": [
        "model.add(LSTM(units = 50, return_sequences = True))\n",
        "model.add(Dropout(0.2))"
      ],
      "execution_count": 0,
      "outputs": []
    },
    {
      "metadata": {
        "id": "EfSoRLwxqE49",
        "colab_type": "code",
        "colab": {}
      },
      "cell_type": "code",
      "source": [
        "model.add(LSTM(units = 50))\n",
        "model.add(Dropout(0.2))"
      ],
      "execution_count": 0,
      "outputs": []
    },
    {
      "metadata": {
        "id": "EO_4yiwGt0on",
        "colab_type": "code",
        "colab": {}
      },
      "cell_type": "code",
      "source": [
        "model.add(Dense(units = 1))"
      ],
      "execution_count": 0,
      "outputs": []
    },
    {
      "metadata": {
        "id": "vbRcSIOyuq8k",
        "colab_type": "code",
        "colab": {}
      },
      "cell_type": "code",
      "source": [
        "model.compile(optimizer = 'adam', \n",
        "              loss=\"mean_squared_error\")"
      ],
      "execution_count": 0,
      "outputs": []
    },
    {
      "metadata": {
        "id": "cspU-WtGv63G",
        "colab_type": "code",
        "colab": {
          "base_uri": "https://localhost:8080/",
          "height": 3434
        },
        "outputId": "140f5490-22b8-42e0-e838-0298c7340349"
      },
      "cell_type": "code",
      "source": [
        "model.fit(x_train, y_train, batch_size = 32, epochs = 100)"
      ],
      "execution_count": 22,
      "outputs": [
        {
          "output_type": "stream",
          "text": [
            "Epoch 1/100\n",
            "1198/1198 [==============================] - 26s 22ms/step - loss: 0.0609\n",
            "Epoch 2/100\n",
            "1198/1198 [==============================] - 19s 16ms/step - loss: 0.0077\n",
            "Epoch 3/100\n",
            "1198/1198 [==============================] - 19s 16ms/step - loss: 0.0061\n",
            "Epoch 4/100\n",
            "1198/1198 [==============================] - 19s 16ms/step - loss: 0.0067\n",
            "Epoch 5/100\n",
            "1198/1198 [==============================] - 19s 16ms/step - loss: 0.0061\n",
            "Epoch 6/100\n",
            "1198/1198 [==============================] - 19s 16ms/step - loss: 0.0053\n",
            "Epoch 7/100\n",
            "1198/1198 [==============================] - 20s 16ms/step - loss: 0.0055\n",
            "Epoch 8/100\n",
            "1198/1198 [==============================] - 20s 17ms/step - loss: 0.0055\n",
            "Epoch 9/100\n",
            "1198/1198 [==============================] - 19s 16ms/step - loss: 0.0060\n",
            "Epoch 10/100\n",
            "1198/1198 [==============================] - 19s 16ms/step - loss: 0.0047\n",
            "Epoch 11/100\n",
            "1198/1198 [==============================] - 19s 16ms/step - loss: 0.0045\n",
            "Epoch 12/100\n",
            "1198/1198 [==============================] - 19s 16ms/step - loss: 0.0045\n",
            "Epoch 13/100\n",
            "1198/1198 [==============================] - 19s 16ms/step - loss: 0.0044\n",
            "Epoch 14/100\n",
            "1198/1198 [==============================] - 19s 16ms/step - loss: 0.0042\n",
            "Epoch 15/100\n",
            "1198/1198 [==============================] - 19s 16ms/step - loss: 0.0046\n",
            "Epoch 16/100\n",
            "1198/1198 [==============================] - 19s 16ms/step - loss: 0.0042\n",
            "Epoch 17/100\n",
            "1198/1198 [==============================] - 19s 16ms/step - loss: 0.0040\n",
            "Epoch 18/100\n",
            "1198/1198 [==============================] - 19s 16ms/step - loss: 0.0040\n",
            "Epoch 19/100\n",
            "1198/1198 [==============================] - 19s 16ms/step - loss: 0.0043\n",
            "Epoch 20/100\n",
            "1198/1198 [==============================] - 19s 16ms/step - loss: 0.0037\n",
            "Epoch 21/100\n",
            "1198/1198 [==============================] - 19s 16ms/step - loss: 0.0041\n",
            "Epoch 22/100\n",
            "1198/1198 [==============================] - 19s 16ms/step - loss: 0.0032\n",
            "Epoch 23/100\n",
            "1198/1198 [==============================] - 19s 16ms/step - loss: 0.0035\n",
            "Epoch 24/100\n",
            "1198/1198 [==============================] - 20s 17ms/step - loss: 0.0034\n",
            "Epoch 25/100\n",
            "1198/1198 [==============================] - 19s 16ms/step - loss: 0.0037\n",
            "Epoch 26/100\n",
            "1198/1198 [==============================] - 19s 16ms/step - loss: 0.0035\n",
            "Epoch 27/100\n",
            "1198/1198 [==============================] - 19s 16ms/step - loss: 0.0034\n",
            "Epoch 28/100\n",
            "1198/1198 [==============================] - 19s 16ms/step - loss: 0.0033\n",
            "Epoch 29/100\n",
            "1198/1198 [==============================] - 19s 16ms/step - loss: 0.0038\n",
            "Epoch 30/100\n",
            "1198/1198 [==============================] - 19s 16ms/step - loss: 0.0035\n",
            "Epoch 31/100\n",
            "1198/1198 [==============================] - 19s 16ms/step - loss: 0.0033\n",
            "Epoch 32/100\n",
            "1198/1198 [==============================] - 19s 16ms/step - loss: 0.0029\n",
            "Epoch 33/100\n",
            "1198/1198 [==============================] - 19s 16ms/step - loss: 0.0032\n",
            "Epoch 34/100\n",
            "1198/1198 [==============================] - 19s 16ms/step - loss: 0.0032\n",
            "Epoch 35/100\n",
            "1198/1198 [==============================] - 19s 16ms/step - loss: 0.0029\n",
            "Epoch 36/100\n",
            "1198/1198 [==============================] - 19s 15ms/step - loss: 0.0030\n",
            "Epoch 37/100\n",
            "1198/1198 [==============================] - 19s 16ms/step - loss: 0.0030\n",
            "Epoch 38/100\n",
            "1198/1198 [==============================] - 19s 16ms/step - loss: 0.0030\n",
            "Epoch 39/100\n",
            "1198/1198 [==============================] - 19s 16ms/step - loss: 0.0032\n",
            "Epoch 40/100\n",
            "1198/1198 [==============================] - 20s 16ms/step - loss: 0.0030\n",
            "Epoch 41/100\n",
            "1198/1198 [==============================] - 19s 16ms/step - loss: 0.0032\n",
            "Epoch 42/100\n",
            "1198/1198 [==============================] - 19s 16ms/step - loss: 0.0031\n",
            "Epoch 43/100\n",
            "1198/1198 [==============================] - 19s 16ms/step - loss: 0.0030\n",
            "Epoch 44/100\n",
            "1198/1198 [==============================] - 19s 16ms/step - loss: 0.0026\n",
            "Epoch 45/100\n",
            "1198/1198 [==============================] - 19s 16ms/step - loss: 0.0029\n",
            "Epoch 46/100\n",
            "1198/1198 [==============================] - 19s 16ms/step - loss: 0.0028\n",
            "Epoch 47/100\n",
            "1198/1198 [==============================] - 19s 16ms/step - loss: 0.0030\n",
            "Epoch 48/100\n",
            "1198/1198 [==============================] - 19s 16ms/step - loss: 0.0025\n",
            "Epoch 49/100\n",
            "1198/1198 [==============================] - 19s 16ms/step - loss: 0.0028\n",
            "Epoch 50/100\n",
            "1198/1198 [==============================] - 19s 16ms/step - loss: 0.0026\n",
            "Epoch 51/100\n",
            "1198/1198 [==============================] - 19s 16ms/step - loss: 0.0025\n",
            "Epoch 52/100\n",
            "1198/1198 [==============================] - 19s 16ms/step - loss: 0.0025\n",
            "Epoch 53/100\n",
            "1198/1198 [==============================] - 19s 16ms/step - loss: 0.0024\n",
            "Epoch 54/100\n",
            "1198/1198 [==============================] - 19s 16ms/step - loss: 0.0027\n",
            "Epoch 55/100\n",
            "1198/1198 [==============================] - 19s 16ms/step - loss: 0.0036\n",
            "Epoch 56/100\n",
            "1198/1198 [==============================] - 19s 16ms/step - loss: 0.0024\n",
            "Epoch 57/100\n",
            "1198/1198 [==============================] - 19s 16ms/step - loss: 0.0026\n",
            "Epoch 58/100\n",
            "1198/1198 [==============================] - 19s 16ms/step - loss: 0.0023\n",
            "Epoch 59/100\n",
            "1198/1198 [==============================] - 19s 16ms/step - loss: 0.0023\n",
            "Epoch 60/100\n",
            "1198/1198 [==============================] - 19s 16ms/step - loss: 0.0022\n",
            "Epoch 61/100\n",
            "1198/1198 [==============================] - 19s 16ms/step - loss: 0.0024\n",
            "Epoch 62/100\n",
            "1198/1198 [==============================] - 19s 16ms/step - loss: 0.0023\n",
            "Epoch 63/100\n",
            "1198/1198 [==============================] - 19s 16ms/step - loss: 0.0022\n",
            "Epoch 64/100\n",
            "1198/1198 [==============================] - 19s 16ms/step - loss: 0.0023\n",
            "Epoch 65/100\n",
            "1198/1198 [==============================] - 19s 16ms/step - loss: 0.0022\n",
            "Epoch 66/100\n",
            "1198/1198 [==============================] - 19s 16ms/step - loss: 0.0020\n",
            "Epoch 67/100\n",
            "1198/1198 [==============================] - 19s 16ms/step - loss: 0.0023\n",
            "Epoch 68/100\n",
            "1198/1198 [==============================] - 19s 16ms/step - loss: 0.0023\n",
            "Epoch 69/100\n",
            "1198/1198 [==============================] - 19s 16ms/step - loss: 0.0023\n",
            "Epoch 70/100\n",
            "1198/1198 [==============================] - 19s 16ms/step - loss: 0.0022\n",
            "Epoch 71/100\n",
            "1198/1198 [==============================] - 19s 16ms/step - loss: 0.0023\n",
            "Epoch 72/100\n",
            "1198/1198 [==============================] - 19s 16ms/step - loss: 0.0024\n",
            "Epoch 73/100\n",
            "1198/1198 [==============================] - 20s 17ms/step - loss: 0.0020\n",
            "Epoch 74/100\n",
            "1198/1198 [==============================] - 19s 16ms/step - loss: 0.0020\n",
            "Epoch 75/100\n",
            "1198/1198 [==============================] - 19s 16ms/step - loss: 0.0020\n",
            "Epoch 76/100\n",
            "1198/1198 [==============================] - 19s 16ms/step - loss: 0.0020\n",
            "Epoch 77/100\n",
            "1198/1198 [==============================] - 19s 16ms/step - loss: 0.0018\n",
            "Epoch 78/100\n",
            "1198/1198 [==============================] - 19s 16ms/step - loss: 0.0019\n",
            "Epoch 79/100\n",
            "1198/1198 [==============================] - 19s 16ms/step - loss: 0.0019\n",
            "Epoch 80/100\n",
            "1198/1198 [==============================] - 19s 15ms/step - loss: 0.0020\n",
            "Epoch 81/100\n",
            "1198/1198 [==============================] - 19s 16ms/step - loss: 0.0018\n",
            "Epoch 82/100\n",
            "1198/1198 [==============================] - 19s 16ms/step - loss: 0.0018\n",
            "Epoch 83/100\n",
            "1198/1198 [==============================] - 19s 16ms/step - loss: 0.0017\n",
            "Epoch 84/100\n",
            "1198/1198 [==============================] - 19s 16ms/step - loss: 0.0020\n",
            "Epoch 85/100\n",
            "1198/1198 [==============================] - 19s 16ms/step - loss: 0.0018\n",
            "Epoch 86/100\n",
            "1198/1198 [==============================] - 19s 16ms/step - loss: 0.0017\n",
            "Epoch 87/100\n",
            "1198/1198 [==============================] - 19s 16ms/step - loss: 0.0019\n",
            "Epoch 88/100\n",
            "1198/1198 [==============================] - 19s 16ms/step - loss: 0.0018\n",
            "Epoch 89/100\n",
            "1198/1198 [==============================] - 14s 12ms/step - loss: 0.0017\n",
            "Epoch 90/100\n",
            "1198/1198 [==============================] - 11s 9ms/step - loss: 0.0018\n",
            "Epoch 91/100\n",
            "1198/1198 [==============================] - 11s 9ms/step - loss: 0.0017\n",
            "Epoch 92/100\n",
            "1198/1198 [==============================] - 10s 9ms/step - loss: 0.0017\n",
            "Epoch 93/100\n",
            "1198/1198 [==============================] - 10s 9ms/step - loss: 0.0018\n",
            "Epoch 94/100\n",
            "1198/1198 [==============================] - 10s 9ms/step - loss: 0.0016\n",
            "Epoch 95/100\n",
            "1198/1198 [==============================] - 10s 9ms/step - loss: 0.0017\n",
            "Epoch 96/100\n",
            "1198/1198 [==============================] - 10s 9ms/step - loss: 0.0016\n",
            "Epoch 97/100\n",
            "1198/1198 [==============================] - 10s 9ms/step - loss: 0.0017\n",
            "Epoch 98/100\n",
            "1198/1198 [==============================] - 10s 9ms/step - loss: 0.0016\n",
            "Epoch 99/100\n",
            "1198/1198 [==============================] - 10s 8ms/step - loss: 0.0015\n",
            "Epoch 100/100\n",
            "1198/1198 [==============================] - 10s 9ms/step - loss: 0.0017\n"
          ],
          "name": "stdout"
        },
        {
          "output_type": "execute_result",
          "data": {
            "text/plain": [
              "<keras.callbacks.History at 0x7ff8ae022550>"
            ]
          },
          "metadata": {
            "tags": []
          },
          "execution_count": 22
        }
      ]
    },
    {
      "metadata": {
        "id": "SH0T08Zo50K5",
        "colab_type": "text"
      },
      "cell_type": "markdown",
      "source": [
        "# Predicting"
      ]
    },
    {
      "metadata": {
        "id": "4457mPZl6-HB",
        "colab_type": "text"
      },
      "cell_type": "markdown",
      "source": [
        "## test data"
      ]
    },
    {
      "metadata": {
        "id": "jcpZeS9jxP6N",
        "colab_type": "code",
        "colab": {}
      },
      "cell_type": "code",
      "source": [
        "dataset_test = pd.DataFrame(data=rows_1[1:], columns=rows_1[0], dtype='float32')\n",
        "real_stock_price = dataset_test.iloc[:, 1:2].values"
      ],
      "execution_count": 0,
      "outputs": []
    },
    {
      "metadata": {
        "id": "Kb3RrRsD7Ces",
        "colab_type": "code",
        "colab": {}
      },
      "cell_type": "code",
      "source": [
        "dataset_total = pd.concat([dataset_train['Open'], dataset_test['Open']], axis=0)\n",
        "inputs = dataset_total[len(dataset_total) - len(dataset_test) - 60:].values\n",
        "inputs = inputs.reshape(-1,1)\n",
        "inputs = sc.transform(inputs)\n",
        "\n",
        "x_test = []\n",
        "for i in range(60, 80):\n",
        "  x_test.append(inputs[i-60:i, 0])\n",
        "x_test = np.array(x_test)\n",
        "x_test = np.reshape(x_test, (x_test.shape[0],x_test.shape[1], 1))"
      ],
      "execution_count": 0,
      "outputs": []
    },
    {
      "metadata": {
        "id": "fJSjzgAvPw8x",
        "colab_type": "code",
        "colab": {}
      },
      "cell_type": "code",
      "source": [
        "predicted_stock_prices = model.predict(x_test)"
      ],
      "execution_count": 0,
      "outputs": []
    },
    {
      "metadata": {
        "id": "H1oVIy4IQCy9",
        "colab_type": "code",
        "colab": {}
      },
      "cell_type": "code",
      "source": [
        "predicted_stock_prices = sc.inverse_transform(predicted_stock_prices)"
      ],
      "execution_count": 0,
      "outputs": []
    },
    {
      "metadata": {
        "id": "9g288wHUPIvP",
        "colab_type": "text"
      },
      "cell_type": "markdown",
      "source": [
        "# Visualizing"
      ]
    },
    {
      "metadata": {
        "id": "QudILwWE7orW",
        "colab_type": "code",
        "colab": {
          "base_uri": "https://localhost:8080/",
          "height": 376
        },
        "outputId": "bc62f8c3-48a7-40ac-a318-d9629473b3a2"
      },
      "cell_type": "code",
      "source": [
        "plt.plot(real_stock_price, color='red', label = 'real google stock price')\n",
        "plt.plot(predicted_stock_prices, color='blue', label = 'predicted google stock price')\n",
        "plt.title('Google stock prices prediction')\n",
        "plt.xlabel('time')\n",
        "plt.ylabel('google stock price')\n",
        "plt.legend()\n",
        "plt.show()"
      ],
      "execution_count": 32,
      "outputs": [
        {
          "output_type": "display_data",
          "data": {
            "image/png": "[encoded data removed]",
            "text/plain": [
              "<matplotlib.figure.Figure at 0x7ff8a86224e0>"
            ]
          },
          "metadata": {
            "tags": []
          }
        }
      ]
    },
    {
      "metadata": {
        "id": "dA3oGsRBS3t7",
        "colab_type": "code",
        "colab": {}
      },
      "cell_type": "code",
      "source": [
        ""
      ],
      "execution_count": 0,
      "outputs": []
    }
  ]
}